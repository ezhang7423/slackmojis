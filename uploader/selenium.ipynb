{
 "cells": [
  {
   "cell_type": "code",
   "execution_count": null,
   "metadata": {},
   "outputs": [],
   "source": [
    "from selenium.webdriver import Chrome   \n",
    "from selenium.webdriver.common.keys import Keys\n",
    "from selenium.webdriver.support.ui import WebDriverWait\n",
    "from selenium.common.exceptions import NoSuchElementException\n",
    "from dotenv import load_dotenv\n",
    "import os\n",
    "import time\n",
    "import wsl\n",
    "def getQA(name):\n",
    "    sel = f\"[data-qa={name}]\"\n",
    "    return driver.find_element_by_css_selector(sel)"
   ]
  },
  {
   "cell_type": "code",
   "execution_count": null,
   "metadata": {},
   "outputs": [],
   "source": [
    "load_dotenv(verbose = True)\n",
    "gifpath = os.path.join(os.path.split(os.getcwd())[0], 'gifs')\n",
    "gifs = os.listdir(gifpath)\n",
    "paths = [os.path.join(gifpath, x) for x in gifs]\n",
    "import subprocess\n",
    "if os.name == 'posix':\n",
    "    if not os.system('grep -q Microsoft /proc/version'):\n",
    "        paths = [wsl.convert_w(path) for path in paths]        "
   ]
  },
  {
   "cell_type": "code",
   "execution_count": null,
   "metadata": {},
   "outputs": [],
   "source": [
    "\n",
    "driver = Chrome(executable_path='./chromedriver.exe' )\n",
    "driver.get(os.environ['SLACKSITE'])"
   ]
  },
  {
   "cell_type": "code",
   "execution_count": null,
   "metadata": {},
   "outputs": [],
   "source": [
    "driver.find_element_by_css_selector(\"#email\").send_keys(os.environ['EMAIL'])\n",
    "driver.find_element_by_css_selector(\"#password\").send_keys(os.environ['PASSWORDD'])\n",
    "driver.find_element_by_css_selector(\"#password\").send_keys(Keys.ENTER)"
   ]
  },
  {
   "cell_type": "code",
   "execution_count": null,
   "metadata": {},
   "outputs": [],
   "source": [
    "for x in range(len(paths)):\n",
    "    getQA('customize_emoji_add_button').click()\n",
    "    time.sleep(.1)\n",
    "    getQA('customize_emoji_add_dialog_file_input').send_keys(paths[x])\n",
    "    driver.find_element_by_id('emojiname').send_keys(gifs[x].split('.')[0])\n",
    "    getQA('customize_emoji_add_dialog_go').click()"
   ]
  },
  {
   "cell_type": "code",
   "execution_count": null,
   "metadata": {},
   "outputs": [],
   "source": []
  },
  {
   "cell_type": "code",
   "execution_count": null,
   "metadata": {},
   "outputs": [],
   "source": []
  },
  {
   "cell_type": "code",
   "execution_count": null,
   "metadata": {},
   "outputs": [],
   "source": []
  },
  {
   "cell_type": "code",
   "execution_count": null,
   "metadata": {},
   "outputs": [],
   "source": [
    "\n",
    "        "
   ]
  },
  {
   "cell_type": "code",
   "execution_count": null,
   "metadata": {},
   "outputs": [],
   "source": []
  },
  {
   "cell_type": "code",
   "execution_count": null,
   "metadata": {},
   "outputs": [],
   "source": []
  },
  {
   "cell_type": "code",
   "execution_count": null,
   "metadata": {},
   "outputs": [],
   "source": []
  }
 ],
 "metadata": {
  "language_info": {
   "codemirror_mode": {
    "name": "ipython",
    "version": 3
   },
   "file_extension": ".py",
   "mimetype": "text/x-python",
   "name": "python",
   "nbconvert_exporter": "python",
   "pygments_lexer": "ipython3",
   "version": "3.6.9-final"
  },
  "orig_nbformat": 2,
  "kernelspec": {
   "name": "python36964bit7c6df46a6b9d418cbf3ed644fdc3b643",
   "display_name": "Python 3.6.9 64-bit"
  }
 },
 "nbformat": 4,
 "nbformat_minor": 2
}